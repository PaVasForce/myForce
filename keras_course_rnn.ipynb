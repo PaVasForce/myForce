{
  "nbformat": 4,
  "nbformat_minor": 0,
  "metadata": {
    "colab": {
      "name": "keras_course_rnn.ipynb",
      "provenance": [],
      "collapsed_sections": [],
      "include_colab_link": true
    },
    "kernelspec": {
      "name": "python3",
      "display_name": "Python 3"
    },
    "accelerator": "GPU"
  },
  "cells": [
    {
      "cell_type": "markdown",
      "metadata": {
        "id": "view-in-github",
        "colab_type": "text"
      },
      "source": [
        "<a href=\"https://colab.research.google.com/github/PaVasForce/myForce/blob/master/keras_course_rnn.ipynb\" target=\"_parent\"><img src=\"https://colab.research.google.com/assets/colab-badge.svg\" alt=\"Open In Colab\"/></a>"
      ]
    },
    {
      "cell_type": "markdown",
      "metadata": {
        "id": "gTlAmtJQO1lO",
        "colab_type": "text"
      },
      "source": [
        "<table>\n",
        "<td>\n",
        "<img src=\"https://people.iee.ihu.gr/~kdiamant/images/kdiamantaras2.jpg\" alt=\"Kostas Diamantaras\" height=\"100\"/>\n",
        "</td>\n",
        "<td>\n",
        "<p>Konstantinos Diamantaras</p>\n",
        "<p>Department of Information and Electronic Engineering</p>  \n",
        "<p>International Hellenic University</p>  \n",
        "<p>Greece</p>\n",
        "</td>\n",
        "<td>\n",
        "<img src=\"https://people.iee.ihu.gr/~kdiamant/images/International_Hellenic_University_logo.jpg\" alt=\"Kostas Diamantaras\" height=\"100\"/>\n",
        "</td>\n",
        "</table>\n",
        "\n",
        "# Implement Embeddings and Recurrent models  \n",
        "<ul>\n",
        "<li> Use layers: <code>Embedding</code>, <code>LSTM</code>\n",
        "<li> Build and train the model</li>\n",
        "<li> Predict test patterns</li>\n",
        "<li> Dataset: <a href=\"http://ai.stanford.edu/~amaas/data/sentiment/\">IMDB Movie reviews</a></li>\n",
        "</ul>"
      ]
    },
    {
      "cell_type": "markdown",
      "metadata": {
        "id": "nlzpOp5exyJ8",
        "colab_type": "text"
      },
      "source": [
        "#### Load IMDB movie reviews dataset  \n",
        "Dataset of 25000 movies reviews from IMDB, labeled by sentiment (positive/negative). Reviews have been preprocessed, and each review is encoded as a sequence of word indices (integers)."
      ]
    },
    {
      "cell_type": "code",
      "metadata": {
        "id": "dOb16tLCxhG6",
        "colab_type": "code",
        "colab": {
          "base_uri": "https://localhost:8080/",
          "height": 205
        },
        "outputId": "0a40c90a-70ad-4c9e-a3f6-e97c39fdf655"
      },
      "source": [
        "from tensorflow.keras.datasets import imdb\n",
        "\n",
        "num_words = 20000   # Vocabulary size = num_words. Use only the 20000 most frequent words\n",
        "(xo_train, t_train), (xo_test, t_test) = imdb.load_data(path=\"imdb.npz\",\n",
        "                                                      num_words=num_words)\n",
        "print('Number of train documents {}'.format(xo_train.shape[0]))\n",
        "print('Number of test documents {}'.format(xo_test.shape[0]))\n",
        "for i in range(5):\n",
        "    print('Document #{} has {} words: {}'.format(i, len(xo_train[i]), xo_train[i][::-1]))"
      ],
      "execution_count": null,
      "outputs": [
        {
          "output_type": "stream",
          "text": [
            "Downloading data from https://storage.googleapis.com/tensorflow/tf-keras-datasets/imdb.npz\n",
            "17465344/17464789 [==============================] - 0s 0us/step\n",
            "Number of train documents 25000\n",
            "Number of test documents 25000\n",
            "Document #0 has 218 words: [32, 178, 19, 5345, 16, 15, 32, 103, 113, 4472, 16, 5, 283, 16, 12, 88, 1334, 38, 16, 65, 226, 4, 104, 25, 92, 224, 28, 36, 51, 18, 5535, 30, 144, 5, 480, 26, 476, 134, 21, 22, 226, 4, 18, 7486, 194, 6, 141, 26, 56, 2071, 32, 98, 297, 15, 381, 4, 88, 104, 13, 1029, 12118, 4, 7, 46, 317, 400, 26, 476, 530, 43, 71, 36, 723, 5, 3766, 7, 2, 4, 256, 15, 5952, 117, 107, 4, 8, 10311, 82, 16, 407, 14, 5, 52, 77, 28, 215, 12, 22, 6, 33, 1415, 25, 48, 135, 36, 51, 124, 25, 5, 619, 38, 16, 12, 130, 4, 33, 3785, 66, 480, 16, 5244, 2223, 4, 5, 106, 8, 316, 8, 12, 386, 62, 5, 19193, 18, 626, 16, 12, 17, 515, 17, 22, 4, 1247, 13, 15, 76, 38, 530, 43, 16, 12, 87, 71, 22, 4, 469, 4613, 1920, 4, 22, 14, 19, 2025, 147, 6, 16, 50, 192, 4, 447, 13, 38, 546, 17, 1111, 4536, 172, 4, 39, 385, 336, 2, 167, 112, 172, 4, 150, 5, 284, 480, 35, 9, 2, 670, 50, 112, 838, 43, 100, 25, 5, 256, 36, 173, 4, 3941, 66, 4468, 458, 65, 1385, 1622, 973, 530, 43, 16, 22, 14, 1]\n",
            "Document #1 has 189 words: [95, 145, 16, 285, 78, 89, 33, 462, 154, 52, 6, 28, 5, 1355, 4, 16, 15, 1690, 4, 23, 145, 168, 8, 9, 1382, 64, 625, 22, 78, 371, 6, 9, 14, 1212, 7464, 32, 2, 18, 491, 152, 131, 9837, 4, 5, 2350, 245, 656, 2, 5, 8255, 228, 4373, 9, 50, 136, 175, 220, 11, 174, 120, 5, 120, 299, 15, 1157, 2, 43, 9, 228, 4, 5, 98, 4362, 165, 349, 15, 6853, 2, 68, 125, 123, 15, 8003, 15358, 605, 148, 2637, 349, 11596, 8255, 7, 775, 194, 9, 1153, 4, 10156, 3215, 11, 163, 5, 6853, 26, 1649, 4, 398, 1905, 1543, 38, 43, 45, 9, 455, 4, 37, 46, 952, 29, 89, 5, 1002, 4, 19, 4901, 130, 4, 9, 118, 4, 1322, 340, 9, 229, 4, 8163, 35, 9, 116, 4, 647, 5, 1523, 2300, 9, 114, 4, 93, 126, 249, 4, 7, 23, 30, 8, 188, 69, 14, 21, 3103, 110, 207, 5, 102, 189, 954, 119, 13, 20, 394, 14, 1634, 118, 8, 715, 4, 26, 134, 5012, 4369, 1463, 6, 5, 228, 78, 8255, 194, 1153, 194, 1]\n",
            "Document #2 has 141 words: [113, 129, 7, 227, 6, 534, 35, 624, 607, 106, 8, 9, 14, 2, 89, 638, 79, 191, 13, 1352, 595, 116, 595, 23, 170, 9, 51, 2307, 6, 47, 22, 4, 11, 31, 57, 40, 272, 12, 22, 23, 21, 2300, 23, 326, 87, 6, 40, 610, 28, 215, 12, 22, 6, 18, 1338, 6905, 14, 106, 8, 780, 2, 69, 36, 278, 1539, 165, 36, 15, 3912, 68, 83, 2578, 1228, 42, 1200, 85, 257, 8, 662, 645, 43, 1716, 4, 11, 334, 316, 58, 4, 7, 360, 4, 16, 66, 12, 78, 89, 33, 1873, 4, 1301, 4821, 263, 19, 534, 35, 320, 86, 4, 296, 1829, 43, 75, 33, 3711, 16, 12, 311, 2401, 4, 112, 22, 14, 149, 71, 13, 369, 61, 54, 5974, 4, 7, 108, 249, 4, 7, 31, 30, 8, 47, 14, 1]\n",
            "Document #3 has 550 words: [2574, 64, 21, 579, 30, 566, 15, 7008, 49, 26, 50, 726, 7, 888, 154, 559, 4, 5, 2804, 7, 671, 4, 13713, 796, 60, 238, 25, 195, 1685, 12, 23, 2, 279, 25, 48, 955, 242, 9, 31, 14, 5168, 8, 283, 9, 15, 22, 6, 67, 8, 132, 9941, 4, 7, 2, 804, 15812, 4, 2, 60, 238, 25, 40, 94, 5, 5991, 7, 12283, 1052, 953, 4, 859, 758, 431, 2, 4, 219, 13, 280, 14, 2, 13, 18223, 40, 82, 21, 537, 53, 23, 537, 2348, 7, 13465, 4, 19, 3222, 1076, 188, 13, 18223, 40, 93, 126, 5168, 7, 22, 307, 2070, 5, 11377, 1202, 91, 4, 242, 9, 10359, 2, 4, 2, 10, 10, 113, 205, 27, 7, 65, 4, 456, 29, 17, 18223, 19, 3807, 257, 75, 38, 399, 11, 882, 3211, 7, 11286, 13243, 53, 518, 4, 5, 154, 7, 11286, 4, 1846, 12716, 3353, 1775, 11876, 75, 537, 44, 65, 14, 11, 10, 10, 537, 11, 32, 12, 9, 42, 579, 30, 882, 4, 70, 3987, 2, 91, 2, 7, 31, 7, 2, 4, 8, 1311, 11120, 236, 6, 97, 8, 1906, 9, 29, 10, 10, 846, 27, 7, 341, 4, 496, 882, 4, 124, 8, 494, 29, 5, 130, 1219, 127, 121, 537, 2213, 2, 27, 496, 882, 4, 882, 4, 124, 8, 16376, 29, 90, 746, 1944, 2750, 6, 9, 50, 246, 10, 10, 1830, 1386, 13699, 6, 793, 2, 1010, 4, 23, 2841, 9, 29, 21, 2, 11, 46, 3261, 8, 1117, 86, 1784, 4, 11, 30, 8, 16376, 90, 7, 173, 4185, 19, 2733, 29, 341, 27, 159, 3633, 1550, 11, 4494, 27, 4726, 18223, 2, 10, 10, 842, 126, 80, 25, 1118, 13699, 1885, 4, 7, 49, 19, 10197, 6307, 5, 936, 2683, 6, 47, 12, 1382, 318, 94, 12, 408, 51, 9, 14, 635, 11, 10161, 9, 2, 246, 1795, 7, 538, 4, 2, 11, 15242, 3987, 9096, 94, 5168, 7, 594, 18665, 4, 7979, 15, 537, 537, 746, 537, 7039, 12, 5122, 143, 145, 9225, 15, 65, 4, 4319, 82, 5, 178, 8, 309, 4319, 2311, 263, 90, 159, 4494, 27, 5, 4494, 61, 40, 2, 9, 403, 61, 10, 10, 736, 5, 1236, 2, 537, 1710, 4122, 217, 2, 19, 3890, 1219, 5, 192, 18435, 921, 35, 17, 42, 2867, 17, 2895, 131, 279, 36, 922, 2306, 75, 17, 5, 182, 2504, 263, 413, 36, 476, 71, 75, 54, 178, 579, 846, 263, 537, 4, 377, 152, 37, 112, 263, 7, 173, 413, 14, 40, 180, 2116, 537, 10, 10, 58, 2722, 8, 3501, 3772, 4, 310, 27, 202, 8, 11, 605, 719, 6, 2, 11, 314, 31, 464, 6, 19, 12, 7064, 13, 17, 5168, 7, 2, 5, 1615, 4, 6004, 11, 579, 9, 65, 172, 4, 12, 716, 59, 96, 4, 39, 482, 586, 25, 21, 1447, 16, 59, 159, 153, 111, 575, 12, 265, 7, 10, 10, 456, 59, 121, 39, 38, 42, 3693, 6, 7339, 2, 4, 23, 687, 4, 8, 31, 2413, 744, 35, 7, 15, 9, 1797, 41, 1239, 216, 105, 4, 166, 59, 2, 7, 985, 4, 9214, 452, 5766, 61, 761, 3715, 35, 744, 15305, 61, 11, 67, 131, 70, 13, 1494, 4, 103, 153, 111, 432, 2040, 4, 2804, 33, 16085, 18609, 4, 1]\n",
            "Document #4 has 147 words: [113, 61, 7, 251, 226, 6, 7224, 5, 14, 19, 143, 170, 165, 18, 3171, 25, 784, 13, 595, 15, 120, 79, 8, 43, 988, 516, 5, 2601, 7, 1272, 2167, 298, 562, 12, 224, 126, 207, 334, 233, 74, 128, 421, 15, 5, 3524, 12, 296, 5, 2, 4, 11, 20, 1543, 15, 1571, 13, 11, 419, 61, 6397, 725, 52, 1543, 421, 12, 88, 138, 124, 25, 5, 570, 474, 95, 534, 35, 18, 1513, 6, 429, 56, 419, 61, 569, 8, 473, 13, 110, 126, 28, 13, 20, 249, 229, 249, 114, 249, 2073, 131, 16, 13, 5, 2359, 71, 369, 61, 7, 289, 32, 22, 4, 143, 96, 1696, 355, 340, 355, 16, 13, 919, 706, 49, 79, 70, 13, 3171, 45, 1400, 2626, 13, 88, 457, 18, 2401, 33, 56, 20, 14, 1637, 13, 10, 10, 113, 61, 7, 1323, 249, 1]\n"
          ],
          "name": "stdout"
        }
      ]
    },
    {
      "cell_type": "markdown",
      "metadata": {
        "id": "LfpiuSr73y-y",
        "colab_type": "text"
      },
      "source": [
        "Preprocess the data  \n",
        "Use `pad_sequences()` to cut each sentence to `maxlen` length. If a sentence is shorter than `maxlen` it is padded with zeros."
      ]
    },
    {
      "cell_type": "code",
      "metadata": {
        "id": "PCmohekWyfcu",
        "colab_type": "code",
        "colab": {
          "base_uri": "https://localhost:8080/",
          "height": 168
        },
        "outputId": "a398bb4e-8e2a-4ea9-8dbd-882658867370"
      },
      "source": [
        "from tensorflow.keras.preprocessing import sequence\n",
        "\n",
        "maxlen = 80\n",
        "x_train = sequence.pad_sequences(xo_train, maxlen=maxlen)\n",
        "x_test = sequence.pad_sequences(xo_test, maxlen=maxlen)\n",
        "print('Training data shape = {}'.format(x_train.shape))\n",
        "print('Test data shape = {}'.format(x_test.shape))\n",
        "for i in range(5):\n",
        "    print('Document #{}: {} words: {}'.format(i, len(x_train[i]), list(x_train[i])[::-1]))"
      ],
      "execution_count": null,
      "outputs": [
        {
          "output_type": "stream",
          "text": [
            "Training data shape = (25000, 80)\n",
            "Test data shape = (25000, 80)\n",
            "Document #0: 80 words: [32, 178, 19, 5345, 16, 15, 32, 103, 113, 4472, 16, 5, 283, 16, 12, 88, 1334, 38, 16, 65, 226, 4, 104, 25, 92, 224, 28, 36, 51, 18, 5535, 30, 144, 5, 480, 26, 476, 134, 21, 22, 226, 4, 18, 7486, 194, 6, 141, 26, 56, 2071, 32, 98, 297, 15, 381, 4, 88, 104, 13, 1029, 12118, 4, 7, 46, 317, 400, 26, 476, 530, 43, 71, 36, 723, 5, 3766, 7, 2, 4, 256, 15]\n",
            "Document #1: 80 words: [95, 145, 16, 285, 78, 89, 33, 462, 154, 52, 6, 28, 5, 1355, 4, 16, 15, 1690, 4, 23, 145, 168, 8, 9, 1382, 64, 625, 22, 78, 371, 6, 9, 14, 1212, 7464, 32, 2, 18, 491, 152, 131, 9837, 4, 5, 2350, 245, 656, 2, 5, 8255, 228, 4373, 9, 50, 136, 175, 220, 11, 174, 120, 5, 120, 299, 15, 1157, 2, 43, 9, 228, 4, 5, 98, 4362, 165, 349, 15, 6853, 2, 68, 125]\n",
            "Document #2: 80 words: [113, 129, 7, 227, 6, 534, 35, 624, 607, 106, 8, 9, 14, 2, 89, 638, 79, 191, 13, 1352, 595, 116, 595, 23, 170, 9, 51, 2307, 6, 47, 22, 4, 11, 31, 57, 40, 272, 12, 22, 23, 21, 2300, 23, 326, 87, 6, 40, 610, 28, 215, 12, 22, 6, 18, 1338, 6905, 14, 106, 8, 780, 2, 69, 36, 278, 1539, 165, 36, 15, 3912, 68, 83, 2578, 1228, 42, 1200, 85, 257, 8, 662, 645]\n",
            "Document #3: 80 words: [2574, 64, 21, 579, 30, 566, 15, 7008, 49, 26, 50, 726, 7, 888, 154, 559, 4, 5, 2804, 7, 671, 4, 13713, 796, 60, 238, 25, 195, 1685, 12, 23, 2, 279, 25, 48, 955, 242, 9, 31, 14, 5168, 8, 283, 9, 15, 22, 6, 67, 8, 132, 9941, 4, 7, 2, 804, 15812, 4, 2, 60, 238, 25, 40, 94, 5, 5991, 7, 12283, 1052, 953, 4, 859, 758, 431, 2, 4, 219, 13, 280, 14, 2]\n",
            "Document #4: 80 words: [113, 61, 7, 251, 226, 6, 7224, 5, 14, 19, 143, 170, 165, 18, 3171, 25, 784, 13, 595, 15, 120, 79, 8, 43, 988, 516, 5, 2601, 7, 1272, 2167, 298, 562, 12, 224, 126, 207, 334, 233, 74, 128, 421, 15, 5, 3524, 12, 296, 5, 2, 4, 11, 20, 1543, 15, 1571, 13, 11, 419, 61, 6397, 725, 52, 1543, 421, 12, 88, 138, 124, 25, 5, 570, 474, 95, 534, 35, 18, 1513, 6, 429, 56]\n"
          ],
          "name": "stdout"
        }
      ]
    },
    {
      "cell_type": "code",
      "metadata": {
        "id": "4LddSvWC-GKu",
        "colab_type": "code",
        "colab": {
          "base_uri": "https://localhost:8080/",
          "height": 36
        },
        "outputId": "aa935921-a6ed-4ae9-a088-174609b5b2d8"
      },
      "source": [
        "import tensorflow.keras.backend as K\n",
        "try:\n",
        "    K.clear_session()\n",
        "    del model\n",
        "except:\n",
        "    print('No model to clear')"
      ],
      "execution_count": null,
      "outputs": [
        {
          "output_type": "stream",
          "text": [
            "No model to clear\n"
          ],
          "name": "stdout"
        }
      ]
    },
    {
      "cell_type": "markdown",
      "metadata": {
        "id": "aWGsVvz7ArW1",
        "colab_type": "text"
      },
      "source": [
        "### Embedding layer (see [Embedding layers](https://keras.io/layers/embeddings/))  \n",
        "*Embedding* is the concept of assigning a vector of dimension $m$ to some object for the purpose of inserting this vector into a machine learning algorithm. For example, in Natural Language Processing (NLP), words in the English dictionary are embedded into $m$-dimensional vectors with the purpose of classifying sentences according to content.\n",
        "In this case $N$ is the size of the English vocabulary (typically in the order of millions) and $m$ is the embedding size chosen by the user (typically $m$=100, 200, 300, or something of that order of magnitude).  \n",
        "\n",
        "Embeddings are implemented using an $N\\times m$ matrix $\\mathbf{E}$. The keras `Embedding` layer implements a *look-up* operation: the 2-d input tensor `x` contains integer indices pointing to the rows of $\\mathbf{E}$.\n",
        "For every element $x_{ij} == index$ of `x` we obtain the row $\\mathbf{e}_{index}$ of $\\mathbf{E}$ and insert it into the output tensor `y` in the position $i,j$.\n",
        "If the input tensor `x` has size (B,L) then the output tensor `y` will have size (B,L,m), where B is the batch size.  \n",
        "\n",
        "**Example**:  \n",
        "\n",
        "<table><tr>\n",
        "<td>\n",
        "<pre><code>\n",
        "E = [[0.5, 0. , 0.4, 0. ],\n",
        "     [0. , 0.8, 0.2, 0.2],\n",
        "     [0.7, 0.1, 0.5, 0.1],\n",
        "     [0.3, 0.9, 0.8, 0.3],\n",
        "     [0.8, 0.4, 0.7, 0.3],\n",
        "     [0.9, 0.5, 0.1, 0.5],\n",
        "     [0.7, 0.7, 0.5, 0.5],\n",
        "     [0.7, 0.4, 0. , 0.2],\n",
        "     [0.3, 0.5, 0.7, 0.9],\n",
        "     [0.3, 0.8, 0.2, 0.8]]\n",
        "</code></pre>\n",
        "</td>\n",
        "<td>\n",
        "<pre><code>\n",
        "x = [[1,3],\n",
        "     [4,8],\n",
        "     [0,9]]\n",
        "</code></pre>\n",
        "</td>\n",
        "<td>\n",
        "<pre><code>\n",
        "y = [[[0. , 0.8, 0.2, 0.2],\n",
        "      [0.3, 0.9, 0.8, 0.3]],\n",
        "     [[0.8, 0.4, 0.7, 0.3],\n",
        "      [0.3, 0.5, 0.7, 0.9]],\n",
        "     [[0.5, 0. , 0.4, 0. ],\n",
        "      [0.3, 0.8, 0.2, 0.8]]]\n",
        "</code></pre>\n",
        "</td>\n",
        "</tr><table>\n",
        "\n",
        "The embedding matrix `E` has size (10,4). Using the NLP paradigm, this means that our vocabulary has 10 words and each word is represented by a 4-dim vector. The input tensor `x` has size (3,2). Therefore, the output tensor `y` has size (3,2,4). Note that the elements of `x` are indices to the rows of `E`, therefore they must be integers. Moreover, these integers must be between 0 and the rows of `E` - 1 (ie. between 0 and 9 in this case). Using the NLP paradigm again, each row of `x` is a *phrase* containing the indices of exactly 2 words.  \n",
        "\n",
        "The `Embedding()` constructor has two required arguments: `input_dim` = number of rows and `output_dim` = number of columns.\n",
        "\n",
        "Embedding layers are trainable. The $\\mathbf{E}$ matrix can be updated using a suitable learning rule.  \n",
        "\n",
        "The `Embedding` layer can only be used as the first layer in a model."
      ]
    },
    {
      "cell_type": "code",
      "metadata": {
        "id": "4JfoE6z_8nbh",
        "colab_type": "code",
        "colab": {}
      },
      "source": [
        "from tensorflow.keras.layers import Input, Embedding\n",
        "\n",
        "embedding_size = 5    # Dimension of embedding vectors (number of columns in embedding matrix)\n",
        "x_in = Input([maxlen])  # Each sentence in a batch contains maxlen words\n",
        "emb = Embedding(num_words, embedding_size)(x_in)"
      ],
      "execution_count": null,
      "outputs": []
    },
    {
      "cell_type": "markdown",
      "metadata": {
        "id": "NA8nhbZ39STq",
        "colab_type": "text"
      },
      "source": [
        "#### LSTM layer (see [Recurrent Layers](https://keras.io/layers/recurrent/))  \n",
        "\n",
        "The Long Short Term Memory model (LSTM) is one of the most popular recurrent networks.\n",
        "Its output $\\mathbf{y}(t)$ at time step $t$ is a function of the current input $\\mathbf{x}(t)$ and the current cell state $\\mathbf{c}(t)$ where, in turn, $\\mathbf{c}(t)$ is a function of the previous cell state $\\mathbf{c}(t-1)$ and previous output $\\mathbf{y}(t-1)$. So, the current output depends not only on the current input but also on all the inputs before that (for ever before), i.e. it has potentially infinite memory.  \n",
        "\n",
        "The model is described by the following recurrent equations ($\\bullet$ denotes elementwise vector multiplication):\n",
        "\n",
        "* Input: $\\mathbf{x}(t)$  \n",
        "* Output: $\\mathbf{y}(t) = \\mathbf{g}_{out}(t) \\bullet \\sigma_o(\\mathbf{c}(t))$  \n",
        "* Cell state: $\\mathbf{c}(t) = \\mathbf{g}_{in}(t)\\bullet \\mathbf{i}(t) + \\mathbf{f}(t) \\bullet \\mathbf{c}(t-1)$  \n",
        "* Cell state input: $\\mathbf{i}(i) = \\sigma_i(\\mathbf{W}_i\\mathbf{x}(t) + \\mathbf{R}_i\\mathbf{y}(t-1) + \\mathbf{b}_i)$\n",
        "* Forgetting gate: $\\mathbf{f}(t) = \\sigma(\\mathbf{W}_f\\mathbf{x}(t) + \\mathbf{R}_f\\mathbf{y}(t-1) + \\mathbf{b}_f)$  \n",
        "* Input gate: $\\mathbf{g}_{in}(t) = \\sigma(\\mathbf{W}_{gi}\\mathbf{x}(t) + \\mathbf{R}_{gi}\\mathbf{y}(t-1) + \\mathbf{b}_{gi})$  \n",
        "* Output gate: $\\mathbf{g}_{out}(t) = \\sigma(\\mathbf{W}_{go}\\mathbf{x}(t) + \\mathbf{R}_{go}\\mathbf{y}(t-1) + \\mathbf{b}_{go})$  \n",
        "\n",
        "$\\mathbf{W}_\\star$, $\\mathbf{R}_\\star$ are weight matrices and $\\mathbf{b}_\\star$ are bias vectors ($\\star = i, f, gi, go$)..  \n",
        "$\\sigma()$ is the logistic sigmoid function  \n",
        "$\\sigma_i()$, $\\sigma_o()$ is usually the $\\tanh$ function.  \n",
        "\n",
        "All recurrent models, including the LSTM, are suitable for Machine Learning problems where the target value depends on the *order* of the input sequence. For example, we make the assumption that the sentiment of a document depends on the order of the words in it:  \n",
        "\n",
        "$sentiment = function(word(1),word(2),\\dots,word(T))$"
      ]
    },
    {
      "cell_type": "code",
      "metadata": {
        "id": "piJTjEMF80_x",
        "colab_type": "code",
        "colab": {}
      },
      "source": [
        "from tensorflow.keras.layers import LSTM\n",
        "\n",
        "lstm_units = 2  # LSTM output is 2-dimensional\n",
        "lstm = LSTM(units=lstm_units)(emb)"
      ],
      "execution_count": null,
      "outputs": []
    },
    {
      "cell_type": "markdown",
      "metadata": {
        "id": "7s_ob7Nk9oQW",
        "colab_type": "text"
      },
      "source": [
        "#### Build the model"
      ]
    },
    {
      "cell_type": "code",
      "metadata": {
        "id": "ITqiTUOBAj9O",
        "colab_type": "code",
        "colab": {
          "base_uri": "https://localhost:8080/",
          "height": 316
        },
        "outputId": "1d835071-2886-4124-be3c-3c05585ed445"
      },
      "source": [
        "from tensorflow.keras.layers import Dense\n",
        "from tensorflow.keras.models import Model\n",
        "from tensorflow.keras.optimizers import Adam\n",
        "\n",
        "out = Dense(1, activation='sigmoid')(lstm)\n",
        "model = Model(inputs=x_in, outputs=out)\n",
        "\n",
        "lr = 1e-3   # Learning rate\n",
        "model.compile(loss='binary_crossentropy', #'mean_squared_error', #\n",
        "              optimizer=Adam(lr=lr),\n",
        "              metrics=['acc'])\n",
        "\n",
        "model.summary()"
      ],
      "execution_count": null,
      "outputs": [
        {
          "output_type": "stream",
          "text": [
            "Model: \"model\"\n",
            "_________________________________________________________________\n",
            "Layer (type)                 Output Shape              Param #   \n",
            "=================================================================\n",
            "input_1 (InputLayer)         [(None, 80)]              0         \n",
            "_________________________________________________________________\n",
            "embedding (Embedding)        (None, 80, 5)             100000    \n",
            "_________________________________________________________________\n",
            "lstm (LSTM)                  (None, 2)                 64        \n",
            "_________________________________________________________________\n",
            "dense (Dense)                (None, 1)                 3         \n",
            "=================================================================\n",
            "Total params: 100,067\n",
            "Trainable params: 100,067\n",
            "Non-trainable params: 0\n",
            "_________________________________________________________________\n"
          ],
          "name": "stdout"
        }
      ]
    },
    {
      "cell_type": "markdown",
      "metadata": {
        "id": "ZmM9qh4I9vs6",
        "colab_type": "text"
      },
      "source": [
        "#### Train the model"
      ]
    },
    {
      "cell_type": "code",
      "metadata": {
        "id": "yBpZgqKwxpq1",
        "colab_type": "code",
        "colab": {
          "base_uri": "https://localhost:8080/",
          "height": 765
        },
        "outputId": "3cffdc01-3d5e-47b3-cd8e-b64befbcb9c2"
      },
      "source": [
        "max_epochs = 20\n",
        "batch_size=32\n",
        "history = model.fit(x_train, t_train,\n",
        "                    validation_data=(x_test,t_test),\n",
        "                    epochs=max_epochs,\n",
        "                    batch_size=batch_size)"
      ],
      "execution_count": null,
      "outputs": [
        {
          "output_type": "stream",
          "text": [
            "Epoch 1/20\n",
            "782/782 [==============================] - 9s 11ms/step - loss: 0.5501 - acc: 0.7241 - val_loss: 0.4118 - val_acc: 0.8262\n",
            "Epoch 2/20\n",
            "782/782 [==============================] - 9s 11ms/step - loss: 0.3282 - acc: 0.8716 - val_loss: 0.3830 - val_acc: 0.8343\n",
            "Epoch 3/20\n",
            "782/782 [==============================] - 9s 11ms/step - loss: 0.2439 - acc: 0.9108 - val_loss: 0.4064 - val_acc: 0.8291\n",
            "Epoch 4/20\n",
            "782/782 [==============================] - 8s 11ms/step - loss: 0.1893 - acc: 0.9351 - val_loss: 0.4406 - val_acc: 0.8234\n",
            "Epoch 5/20\n",
            "782/782 [==============================] - 9s 11ms/step - loss: 0.1506 - acc: 0.9528 - val_loss: 0.4664 - val_acc: 0.8234\n",
            "Epoch 6/20\n",
            "782/782 [==============================] - 9s 11ms/step - loss: 0.1244 - acc: 0.9638 - val_loss: 0.5325 - val_acc: 0.8165\n",
            "Epoch 7/20\n",
            "782/782 [==============================] - 9s 11ms/step - loss: 0.1053 - acc: 0.9695 - val_loss: 0.5671 - val_acc: 0.8127\n",
            "Epoch 8/20\n",
            "782/782 [==============================] - 9s 11ms/step - loss: 0.0880 - acc: 0.9759 - val_loss: 0.5910 - val_acc: 0.8120\n",
            "Epoch 9/20\n",
            "782/782 [==============================] - 9s 11ms/step - loss: 0.0747 - acc: 0.9805 - val_loss: 0.6718 - val_acc: 0.8058\n",
            "Epoch 10/20\n",
            "782/782 [==============================] - 8s 11ms/step - loss: 0.0662 - acc: 0.9827 - val_loss: 0.6732 - val_acc: 0.8057\n",
            "Epoch 11/20\n",
            "782/782 [==============================] - 8s 11ms/step - loss: 0.0540 - acc: 0.9869 - val_loss: 0.7155 - val_acc: 0.8068\n",
            "Epoch 12/20\n",
            "782/782 [==============================] - 8s 11ms/step - loss: 0.0488 - acc: 0.9888 - val_loss: 0.7312 - val_acc: 0.8060\n",
            "Epoch 13/20\n",
            "782/782 [==============================] - 8s 11ms/step - loss: 0.0431 - acc: 0.9894 - val_loss: 0.7726 - val_acc: 0.8019\n",
            "Epoch 14/20\n",
            "782/782 [==============================] - 8s 11ms/step - loss: 0.0364 - acc: 0.9924 - val_loss: 0.8222 - val_acc: 0.7992\n",
            "Epoch 15/20\n",
            "782/782 [==============================] - 8s 11ms/step - loss: 0.0334 - acc: 0.9924 - val_loss: 0.8620 - val_acc: 0.7960\n",
            "Epoch 16/20\n",
            "782/782 [==============================] - 9s 11ms/step - loss: 0.0333 - acc: 0.9913 - val_loss: 0.8157 - val_acc: 0.8028\n",
            "Epoch 17/20\n",
            "782/782 [==============================] - 9s 11ms/step - loss: 0.0293 - acc: 0.9928 - val_loss: 0.8266 - val_acc: 0.7996\n",
            "Epoch 18/20\n",
            "782/782 [==============================] - 8s 11ms/step - loss: 0.0249 - acc: 0.9946 - val_loss: 0.9315 - val_acc: 0.7963\n",
            "Epoch 19/20\n",
            "782/782 [==============================] - 8s 11ms/step - loss: 0.0242 - acc: 0.9940 - val_loss: 0.9502 - val_acc: 0.7961\n",
            "Epoch 20/20\n",
            "782/782 [==============================] - 8s 11ms/step - loss: 0.0220 - acc: 0.9944 - val_loss: 0.9424 - val_acc: 0.7953\n"
          ],
          "name": "stdout"
        }
      ]
    },
    {
      "cell_type": "markdown",
      "metadata": {
        "id": "fEmCWCtd-UFI",
        "colab_type": "text"
      },
      "source": [
        "#### Plot training, testing performance"
      ]
    },
    {
      "cell_type": "code",
      "metadata": {
        "id": "GmnXXPIk-YAf",
        "colab_type": "code",
        "colab": {
          "base_uri": "https://localhost:8080/",
          "height": 516
        },
        "outputId": "b08b341d-4e26-4609-b160-2d7d73c647e8"
      },
      "source": [
        "import matplotlib.pyplot as plt\n",
        "\n",
        "fig, ax = plt.subplots(figsize=(10,8))\n",
        "fig.set_facecolor('lightgray')\n",
        "plt.plot(history.history['acc'], 'b')\n",
        "plt.plot(history.history['val_acc'], 'r')\n",
        "plt.legend(['train acc', 'test_acc'], fontsize=14)\n",
        "ax.text(10, 0.9, 'Large\\nOverfitting', fontsize=16,\n",
        "        verticalalignment='top', bbox=dict(boxstyle='round', facecolor='wheat', alpha=0.5))\n",
        "plt.grid(b=True)\n",
        "plt.xlabel('Epochs')"
      ],
      "execution_count": null,
      "outputs": [
        {
          "output_type": "execute_result",
          "data": {
            "text/plain": [
              "Text(0.5, 0, 'Epochs')"
            ]
          },
          "metadata": {
            "tags": []
          },
          "execution_count": 8
        },
        {
          "output_type": "display_data",
          "data": {
            "image/png": "[encoded data removed]",
            "text/plain": [
              "<Figure size 720x576 with 1 Axes>"
            ]
          },
          "metadata": {
            "tags": []
          }
        }
      ]
    }
  ]
}