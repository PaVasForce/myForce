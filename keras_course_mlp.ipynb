{
  "nbformat": 4,
  "nbformat_minor": 0,
  "metadata": {
    "colab": {
      "name": "keras_course_mlp.ipynb",
      "provenance": [],
      "collapsed_sections": [],
      "include_colab_link": true
    },
    "kernelspec": {
      "name": "python3",
      "display_name": "Python 3"
    },
    "accelerator": "GPU"
  },
  "cells": [
    {
      "cell_type": "markdown",
      "metadata": {
        "id": "view-in-github",
        "colab_type": "text"
      },
      "source": [
        "<a href=\"https://colab.research.google.com/github/PaVasForce/myForce/blob/master/keras_course_mlp.ipynb\" target=\"_parent\"><img src=\"https://colab.research.google.com/assets/colab-badge.svg\" alt=\"Open In Colab\"/></a>"
      ]
    },
    {
      "cell_type": "markdown",
      "metadata": {
        "id": "gTlAmtJQO1lO",
        "colab_type": "text"
      },
      "source": [
        "<table>\n",
        "<td>\n",
        "<img src=\"https://people.iee.ihu.gr/~kdiamant/images/kdiamantaras2.jpg\" alt=\"Kostas Diamantaras\" height=\"100\"/>\n",
        "</td>\n",
        "<td>\n",
        "<p>Konstantinos Diamantaras</p>\n",
        "<p>Department of Information and Electronic Engineering</p>  \n",
        "<p>International Hellenic University</p>  \n",
        "<p>Greece</p>\n",
        "</td>\n",
        "<td>\n",
        "<img src=\"https://people.iee.ihu.gr/~kdiamant/images/International_Hellenic_University_logo.jpg\" alt=\"Kostas Diamantaras\" height=\"100\"/>\n",
        "</td>\n",
        "</table>\n",
        "\n",
        "# Implement a simple Multi-Layer Perceptron model  \n",
        "<ul>\n",
        "<li> Use Core layers: <code>Input</code>, <code>Dense</code>, <code>Flatten</code></li>\n",
        "<li> Build and train the model</li>\n",
        "<li> Predict test patterns</li>\n",
        "<li> Dataset: <a href=\"http://yann.lecun.com/exdb/mnist/\">MNIST</a></li>\n",
        "</ul>"
      ]
    },
    {
      "cell_type": "markdown",
      "metadata": {
        "id": "aWGsVvz7ArW1",
        "colab_type": "text"
      },
      "source": [
        "### **Introduction: Tensors**  \n",
        "Implement tensors using numpy arrays. **numpy arrays = tensors**.  \n",
        "Make an n-d array applying the function `numpy.array()` on a n-d list  \n",
        "Get the shape of a n-d array using the `.shape()` method"
      ]
    },
    {
      "cell_type": "code",
      "metadata": {
        "id": "ITqiTUOBAj9O",
        "colab_type": "code",
        "colab": {
          "base_uri": "https://localhost:8080/",
          "height": 90
        },
        "outputId": "250ea4ee-8b14-49ea-f3ec-652f0903f1b8"
      },
      "source": [
        "import numpy as np\n",
        "\n",
        "# 0 dimensional tensor = number\n",
        "n = 3\n",
        "print('n={}'.format(n))\n",
        "# 1 dimensional tensor (=vector)\n",
        "a = np.array([3, -6.1, 4.2])\n",
        "print('a shape = {}'.format(a.shape))\n",
        "\n",
        "# 2 dimensional tensor (=matrix)\n",
        "b = np.array([[3, -6.1, 4.2],\n",
        "              [-2.7, -8.5, 9]])\n",
        "print('b shape = {}'.format(b.shape))\n",
        "\n",
        "# 3 dimensional tensor = 3-d array\n",
        "c = np.array([[[3, -6.1, 4.2],\n",
        "               [-2.7, -8.5, 9]],\n",
        "              [[-5.6, -1.4, 2],\n",
        "               [3, 0.1, 0.7]],\n",
        "              [[2.2, 0.1, -2.4],\n",
        "               [-1.5, -0.5, 1.8]],\n",
        "              [[-0.6, 4.4, -8],\n",
        "               [1.3, -0.3, 6.7]]])\n",
        "print('c shape = {}'.format(c.shape))"
      ],
      "execution_count": null,
      "outputs": [
        {
          "output_type": "stream",
          "text": [
            "n=3\n",
            "a shape = (3,)\n",
            "b shape = (2, 3)\n",
            "c shape = (4, 2, 3)\n"
          ],
          "name": "stdout"
        }
      ]
    },
    {
      "cell_type": "markdown",
      "metadata": {
        "id": "jhUMEl6yDqvk",
        "colab_type": "text"
      },
      "source": [
        "### **Keras Layers**  \n",
        "A layer is a python object that receives an n-d tensor `x` as input and returns an m-d tensor `y` as output.  \n",
        "General usage:  \n",
        "<code>y = *&lt;Layer_constructor&gt;*(*&lt;parameters&gt;*)(x)</code>"
      ]
    },
    {
      "cell_type": "code",
      "metadata": {
        "id": "HMXB20jtYWYR",
        "colab_type": "code",
        "colab": {}
      },
      "source": [
        "import tensorflow.keras.backend as K"
      ],
      "execution_count": null,
      "outputs": []
    },
    {
      "cell_type": "markdown",
      "metadata": {
        "id": "6foXbYMUUQHS",
        "colab_type": "text"
      },
      "source": [
        "#### Delete previous model, if one exists, to avoid memory leak"
      ]
    },
    {
      "cell_type": "code",
      "metadata": {
        "id": "1PhHCWElT1IQ",
        "colab_type": "code",
        "colab": {
          "base_uri": "https://localhost:8080/",
          "height": 35
        },
        "outputId": "34c1206e-7bcf-48a2-cc72-fb6537604440"
      },
      "source": [
        "try:\n",
        "    K.clear_session()\n",
        "    del model\n",
        "    print('Model deleted')\n",
        "except:\n",
        "    print('No model to delete')"
      ],
      "execution_count": null,
      "outputs": [
        {
          "output_type": "stream",
          "text": [
            "No model to delete\n"
          ],
          "name": "stdout"
        }
      ]
    },
    {
      "cell_type": "markdown",
      "metadata": {
        "colab_type": "text",
        "id": "EzuEk5vNUDVz"
      },
      "source": [
        "#### Input layer (see [Core layers](https://keras.io/layers/core/))  \n",
        "The input layer simply creates a tensor with shape `(None, n2, n3, ..., nk)`.\n",
        "The first dimension is unspecified because if corresponds to the <code>*&lt;batch_size&gt;*</code> which is currently an unknown number.\n",
        "It will be specified when we use the network for training, prediction or evaluation.  \n",
        "For example:\n"
      ]
    },
    {
      "cell_type": "code",
      "metadata": {
        "id": "f3ANoFmqas-N",
        "colab_type": "code",
        "colab": {
          "base_uri": "https://localhost:8080/",
          "height": 35
        },
        "outputId": "34d817e9-fa73-4ac5-d85b-adc84f304ab5"
      },
      "source": [
        "from tensorflow.keras.layers import Input\n",
        "\n",
        "x_in = Input(shape=[28,28])    # Create a Tensor with shape [?, 28, 28] x_in = Input(shape=[255,255]) \n",
        "print(x_in)"
      ],
      "execution_count": null,
      "outputs": [
        {
          "output_type": "stream",
          "text": [
            "Tensor(\"input_1:0\", shape=(None, 28, 28), dtype=float32)\n"
          ],
          "name": "stdout"
        }
      ]
    },
    {
      "cell_type": "markdown",
      "metadata": {
        "id": "AidWEVpFfQvg",
        "colab_type": "text"
      },
      "source": [
        "> Keras `Tensor` class:  \n",
        "the object `x_in` is an instance of the `Tensor` class which wraps `numpy.array` with some extra functionality.  "
      ]
    },
    {
      "cell_type": "markdown",
      "metadata": {
        "id": "i4iNT5k79B9F",
        "colab_type": "text"
      },
      "source": [
        "#### Flatten layer (see [Core layers](https://keras.io/layers/core/))  \n",
        "Takes a k-dimensional input tensor of shape `[None, n2, n3, ..., nk]` and reshapes it into a 2-dimensional tensor of shape `[None, n2*...*nk]`. For example, the following code reshapes the `[None,28,28]` tensor `x_in` into the 2-d tensor `x_flat` with dimensions `[None,784]`:"
      ]
    },
    {
      "cell_type": "code",
      "metadata": {
        "id": "FIYs7D8t9Bgo",
        "colab_type": "code",
        "colab": {
          "base_uri": "https://localhost:8080/",
          "height": 35
        },
        "outputId": "e6aaebd8-de3e-4f27-a1d7-d43295813ec2"
      },
      "source": [
        "from tensorflow.keras.layers import Flatten\n",
        "\n",
        "x_flat = Flatten()(x_in)  # κανει δυδσιάστατο.. none, 784 28*28dhladh. prepei na ginei ayto gia na mpei sto neyroniko\n",
        "print(x_flat.shape)"
      ],
      "execution_count": null,
      "outputs": [
        {
          "output_type": "stream",
          "text": [
            "(None, 784)\n"
          ],
          "name": "stdout"
        }
      ]
    },
    {
      "cell_type": "markdown",
      "metadata": {
        "id": "AEZtM5jRGdvG",
        "colab_type": "text"
      },
      "source": [
        "#### Dense layer (see [Core layers](https://keras.io/layers/core/))  \n",
        "The dense layer implements a fully connected neural layer with $n$ inputs and $m$ outputs.  \n",
        "<table><tr><td>\n",
        "<img src=\"https://people.iee.ihu.gr/~kdiamant/images/Dense_layer.png\" alt=\"Dense layer\" height=\"150\"/>\n",
        "</td><td>\n",
        "<p>$\\mathbf{y} = f( \\mathbf{xW} + \\mathbf{b} )$</p>\n",
        "<p>$f$: activation function</p>\n",
        "<p>$W$: $n\\times m$ weight matrix</p>\n",
        "<p>$b$: $m$-dimensional bias vector</p>\n",
        "</td></tr></table>\n",
        "\n",
        "It assumes that the input tensor `x` is 2-d with shape `(None,n)`.\n",
        "Again the first dimension is unspecified because it corresponds to the unknown `batch_size`.\n",
        "In other words `x` is a matrix whose rows correspond to patterns and columns correspond to features.\n",
        "You may specify the number of inputs using the parameter `input_shape=(n,)`.\n",
        "You can skip this parameter if you specify the tensor `x` in which case the dimension `n` will be infered from it.  \n",
        "The output dimension `m` must be passed to the layer constructor as a parameter.\n",
        "This is mandatory.  \n",
        "The dimension of the output tensor `y` is `(None,m)`.  \n",
        "You may also set the activation function of the neurons.\n",
        "If not set, the activation is by default linear. Possible activation functions include:\n",
        "* `'relu'`: $relu(a) = 0$ if $a<0$, else $a$ if $a\\geq 0$  \n",
        "* `'softmax'`, $z = softmax(a)$, $z_i = \\frac{exp(a_i)}{\\Sigma_j exp(a_j)}$ \n",
        "* `'sigmoid'`, $sigmoid(a) = \\frac{1}{1+exp(-a)}$  \n",
        "* `'tanh'`: $tanh(a) = \\frac{exp(a)-exp(-a)}{exp(a)+exp(-a)}$  \n",
        "For example:  "
      ]
    },
    {
      "cell_type": "code",
      "metadata": {
        "id": "a4RutchEa1mP",
        "colab_type": "code",
        "colab": {
          "base_uri": "https://localhost:8080/",
          "height": 35
        },
        "outputId": "e5283d0f-ed5e-4f6e-bf4a-0667c76d34df"
      },
      "source": [
        "from tensorflow.keras.layers import Dense\n",
        "\n",
        "\"\"\"\n",
        "Define a dense layer with\n",
        "    output units = 32 \n",
        "    input tensor = x_flat\n",
        "    activation function = relu\n",
        "\"\"\"\n",
        "y = Dense(32, activation='relu')(x_flat)      # First dense layer\n",
        "print(y)    # shape = [None, 32]"
      ],
      "execution_count": null,
      "outputs": [
        {
          "output_type": "stream",
          "text": [
            "Tensor(\"dense_1/Identity:0\", shape=(None, 32), dtype=float32)\n"
          ],
          "name": "stdout"
        }
      ]
    },
    {
      "cell_type": "markdown",
      "metadata": {
        "id": "vsMdrzOZeI7f",
        "colab_type": "text"
      },
      "source": [
        "Add more layers to the network"
      ]
    },
    {
      "cell_type": "code",
      "metadata": {
        "colab_type": "code",
        "id": "MFZSOBhneNAd",
        "colab": {}
      },
      "source": [
        "y = Dense(64, activation='relu')(y)         # Second dense layer (64 outputs units)\n",
        "y = Dense(96, activation='relu')(y)         # Third dense layer (96 output units)\n",
        "out = Dense(10, activation='softmax')(y)    # Output layer = Fourth dense layer"
      ],
      "execution_count": null,
      "outputs": []
    },
    {
      "cell_type": "markdown",
      "metadata": {
        "id": "eiuNcDuEzl9m",
        "colab_type": "text"
      },
      "source": [
        "out = [0, 0.1, 0, 0, 0.9, 0, 0, 0, 0, 0] --> class 5 with probability 0.9"
      ]
    },
    {
      "cell_type": "markdown",
      "metadata": {
        "id": "42knmRefZZSv",
        "colab_type": "text"
      },
      "source": [
        "#### Build a keras [Model](https://keras.io/models/model/)  \n",
        "Build the model by specifying the input tensor `x_in` and the output tensor `out`:"
      ]
    },
    {
      "cell_type": "code",
      "metadata": {
        "id": "C-_3e0jVTLn5",
        "colab_type": "code",
        "colab": {}
      },
      "source": [
        "from tensorflow.keras.models import Model\n",
        "\n",
        "model = Model(inputs=x_in, outputs=out)"
      ],
      "execution_count": null,
      "outputs": []
    },
    {
      "cell_type": "markdown",
      "metadata": {
        "id": "AIrsdiwRhPUw",
        "colab_type": "text"
      },
      "source": [
        "#### Compile the model  \n",
        "Prepare the model for training using the method `.compile()`. With this method we specify:  \n",
        "\n",
        "* The loss function `loss`. Typical loss functions include:  \n",
        "  > `'mean_squared_error'`:  $loss(\\mathbf{y},\\mathbf{t}) = \\sum_{p=1}^N \\sum_{i=1}^m (y_{pi} - t_{pi})^2$ where  \n",
        "    $y_{pi}$ is the $i$-th model output for the $p$-th pattern  \n",
        "    $t_{pi}$ is the target for the $i$-th output for the $p$-th pattern  \n",
        "\n",
        "  > `'categorical_crossentropy'`: $loss(\\mathbf{y},\\mathbf{t}) = -\\sum_{p=1}^N \\sum_{i=1}^m \\log(y_{pi}) t_{pi}$ where  \n",
        "    $y_{pi}$ and $t_{pi}$ as before, except that we must have $0\\leq y_{pi} \\leq 1$ and also, for all patterns $p$, $[t_{p1}, t_{p2}, ..., t_{pm}]$ must be a binary one-hot vector  \n",
        "\n",
        "  > `'sparse_categorical_crossentropy'`: $loss(\\mathbf{y},\\mathbf{t}) = -\\sum_{p=1}^N \\sum_{i=1}^m \\log(y_{pi}) onehot_{pi}$ where  \n",
        "    $y_{pi}$ as before, and $t_{pi}$ is an integer representing the class label for pattern $p$. Then $onehot_p$ is an one-hot vector of size `number_of_classes` corresponding to the label $t_{pi}$  \n",
        "\n",
        "  > For more details see [keras losses](https://keras.io/losses/)  \n",
        "\n",
        "* The optimizer algorithm to be used.  \n",
        "> Stochastic Gradient Descent: `SGD(lr=0.01, decay=1e-6, momentum=0.9, nesterov=True)`  \n",
        "> Adam optimizer: `Adam(learning_rate=0.001, beta_1=0.9, beta_2=0.999, amsgrad=False)`  \n",
        "> For more details see [keras optimizers](https://keras.io/optimizers/)  \n",
        "\n",
        "* List of metrics to display while training the model. Typical metrics include  \n",
        "> `'accuracy'`  \n",
        "> `'mae'` (Mean Absolute Error)  \n",
        "> `'mse'` (Mean Squared Error)  \n",
        "> For more details see [keras metrics](https://keras.io/metrics/)  "
      ]
    },
    {
      "cell_type": "code",
      "metadata": {
        "id": "JDBToysMhUhT",
        "colab_type": "code",
        "colab": {}
      },
      "source": [
        "from tensorflow.keras.losses import sparse_categorical_crossentropy\n",
        "from tensorflow.keras.optimizers import Adam\n",
        "\n",
        "model.compile(loss='sparse_categorical_crossentropy',\n",
        "              optimizer=Adam(lr=1e-3),\n",
        "              metrics=['accuracy'])"
      ],
      "execution_count": null,
      "outputs": []
    },
    {
      "cell_type": "markdown",
      "metadata": {
        "id": "V8jWzF2tOAx1",
        "colab_type": "text"
      },
      "source": [
        "#### Model summary  \n",
        "Print model details in human readable format"
      ]
    },
    {
      "cell_type": "code",
      "metadata": {
        "id": "kJwR1Dz6OHu1",
        "colab_type": "code",
        "colab": {
          "base_uri": "https://localhost:8080/",
          "height": 384
        },
        "outputId": "1d4d58ef-f57a-4261-f2dc-867bbe375e84"
      },
      "source": [
        "model.summary()"
      ],
      "execution_count": null,
      "outputs": [
        {
          "output_type": "stream",
          "text": [
            "Model: \"model_1\"\n",
            "_________________________________________________________________\n",
            "Layer (type)                 Output Shape              Param #   \n",
            "=================================================================\n",
            "input_1 (InputLayer)         [(None, 28, 28)]          0         \n",
            "_________________________________________________________________\n",
            "flatten (Flatten)            (None, 784)               0         \n",
            "_________________________________________________________________\n",
            "dense_1 (Dense)              (None, 32)                25120     \n",
            "_________________________________________________________________\n",
            "dense_2 (Dense)              (None, 64)                2112      \n",
            "_________________________________________________________________\n",
            "dense_3 (Dense)              (None, 96)                6240      \n",
            "_________________________________________________________________\n",
            "dense_4 (Dense)              (None, 10)                970       \n",
            "=================================================================\n",
            "Total params: 34,442\n",
            "Trainable params: 34,442\n",
            "Non-trainable params: 0\n",
            "_________________________________________________________________\n"
          ],
          "name": "stdout"
        }
      ]
    },
    {
      "cell_type": "markdown",
      "metadata": {
        "id": "vdCCmi7w6K-0",
        "colab_type": "text"
      },
      "source": [
        "#### Load dataset for training  \n",
        "The MNIST dataset is a benchmark for handwritten digit recongition. It consists of 4 tensors:\n",
        "> `x_train`: tensor with shape (60000, 28, 28). Contains 60000 training images of size 28 $\\times$ 28 pixels  \n",
        "> `t_train`: tensor with shape (60000). Contains 60000 training image labels  \n",
        "> `x_test`: tensor with shape (10000, 28, 28). Contains 10000 test images of size 28 $\\times$ 28 pixels  \n",
        "> `t_test`: tensor with shape (10000). Contains 10000 test image labels  \n",
        "\n",
        "MNIST can be loaded using the built in function `keras.datasets.mnist.load_data()`"
      ]
    },
    {
      "cell_type": "code",
      "metadata": {
        "id": "AiHrPdyl7JU-",
        "colab_type": "code",
        "colab": {
          "base_uri": "https://localhost:8080/",
          "height": 127
        },
        "outputId": "1a556624-c280-4e76-ad64-8bdca8133833"
      },
      "source": [
        "from tensorflow.keras.datasets import mnist\n",
        "\n",
        "(x_train, t_train), (x_test, t_test) = mnist.load_data()\n",
        "print('x_train.shape = ', x_train.shape)\n",
        "print('t_train.shape = ', t_train.shape)\n",
        "print('x_test.shape = ', x_test.shape)\n",
        "print('t_test.shape = ', t_test.shape)"
      ],
      "execution_count": null,
      "outputs": [
        {
          "output_type": "stream",
          "text": [
            "Downloading data from https://storage.googleapis.com/tensorflow/tf-keras-datasets/mnist.npz\n",
            "11493376/11490434 [==============================] - 0s 0us/step\n",
            "x_train.shape =  (60000, 28, 28)\n",
            "t_train.shape =  (60000,)\n",
            "x_test.shape =  (10000, 28, 28)\n",
            "t_test.shape =  (10000,)\n"
          ],
          "name": "stdout"
        }
      ]
    },
    {
      "cell_type": "markdown",
      "metadata": {
        "id": "mlfeQdzq5heX",
        "colab_type": "text"
      },
      "source": [
        "#### Train the model  \n",
        "Use the `.fit(x, y, batch_size, epochs, validation_data, verbose, ...)` method to train the model. Main parameters:  \n",
        "* `x`: numpy array containing the training patterns. Rows are patterns, columns are features.  \n",
        "* `y`: numpy array containing the training targets. Make sure that the format of the array fits the `loss` that was used when you compiled the model\n",
        "* `batch_size`: the data are fed into the optimization algorithm in batches, ie. in small groups of *B* patterns at a time. `batch_size`=*B*.\n",
        "* `validation_data`: a pair of numpy arrays containing the testing patterns and the testing targets.\n",
        "* `max_epochs`: maximum number of epochs used for training. An epoch of training is completed when all the patterns are presented to the algorithm once.\n",
        "* `verbose`: level of detailed feedback given by the algorithm during training. `verbose=0` gives no feedback."
      ]
    },
    {
      "cell_type": "code",
      "metadata": {
        "id": "ZlvrtIRK5mQe",
        "colab_type": "code",
        "colab": {
          "base_uri": "https://localhost:8080/",
          "height": 1000
        },
        "outputId": "702e2587-5c2d-4f19-cd04-a337a0b5a7ca"
      },
      "source": [
        "max_epochs = 50\n",
        "batch_size = 100\n",
        "#number of batches = 60000/100 = 600\n",
        "\n",
        "history = model.fit(x=x_train, y=t_train,\n",
        "                    validation_data=(x_test,t_test),\n",
        "                    batch_size=batch_size,\n",
        "                    epochs=max_epochs,\n",
        "                    verbose=1)"
      ],
      "execution_count": null,
      "outputs": [
        {
          "output_type": "stream",
          "text": [
            "Epoch 1/50\n",
            "600/600 [==============================] - 2s 3ms/step - loss: 1.3640 - accuracy: 0.7251 - val_loss: 0.4517 - val_accuracy: 0.8727\n",
            "Epoch 2/50\n",
            "600/600 [==============================] - 2s 3ms/step - loss: 0.3879 - accuracy: 0.8918 - val_loss: 0.3375 - val_accuracy: 0.9068\n",
            "Epoch 3/50\n",
            "600/600 [==============================] - 2s 3ms/step - loss: 0.2855 - accuracy: 0.9193 - val_loss: 0.2815 - val_accuracy: 0.9283\n",
            "Epoch 4/50\n",
            "600/600 [==============================] - 2s 3ms/step - loss: 0.2385 - accuracy: 0.9331 - val_loss: 0.2617 - val_accuracy: 0.9318\n",
            "Epoch 5/50\n",
            "600/600 [==============================] - 2s 3ms/step - loss: 0.2161 - accuracy: 0.9388 - val_loss: 0.2437 - val_accuracy: 0.9337\n",
            "Epoch 6/50\n",
            "600/600 [==============================] - 2s 4ms/step - loss: 0.1973 - accuracy: 0.9431 - val_loss: 0.2136 - val_accuracy: 0.9430\n",
            "Epoch 7/50\n",
            "600/600 [==============================] - 2s 4ms/step - loss: 0.1798 - accuracy: 0.9474 - val_loss: 0.2009 - val_accuracy: 0.9466\n",
            "Epoch 8/50\n",
            "600/600 [==============================] - 2s 4ms/step - loss: 0.1695 - accuracy: 0.9505 - val_loss: 0.2072 - val_accuracy: 0.9426\n",
            "Epoch 9/50\n",
            "600/600 [==============================] - 2s 3ms/step - loss: 0.1566 - accuracy: 0.9543 - val_loss: 0.2037 - val_accuracy: 0.9450\n",
            "Epoch 10/50\n",
            "600/600 [==============================] - 2s 3ms/step - loss: 0.1477 - accuracy: 0.9562 - val_loss: 0.1932 - val_accuracy: 0.9491\n",
            "Epoch 11/50\n",
            "600/600 [==============================] - 2s 3ms/step - loss: 0.1421 - accuracy: 0.9575 - val_loss: 0.1941 - val_accuracy: 0.9461\n",
            "Epoch 12/50\n",
            "600/600 [==============================] - 2s 3ms/step - loss: 0.1306 - accuracy: 0.9601 - val_loss: 0.1820 - val_accuracy: 0.9493\n",
            "Epoch 13/50\n",
            "600/600 [==============================] - 2s 3ms/step - loss: 0.1275 - accuracy: 0.9611 - val_loss: 0.1864 - val_accuracy: 0.9521\n",
            "Epoch 14/50\n",
            "600/600 [==============================] - 2s 3ms/step - loss: 0.1186 - accuracy: 0.9636 - val_loss: 0.1828 - val_accuracy: 0.9523\n",
            "Epoch 15/50\n",
            "600/600 [==============================] - 2s 3ms/step - loss: 0.1124 - accuracy: 0.9653 - val_loss: 0.1857 - val_accuracy: 0.9537\n",
            "Epoch 16/50\n",
            "600/600 [==============================] - 2s 3ms/step - loss: 0.1101 - accuracy: 0.9670 - val_loss: 0.1790 - val_accuracy: 0.9537\n",
            "Epoch 17/50\n",
            "600/600 [==============================] - 2s 3ms/step - loss: 0.1045 - accuracy: 0.9678 - val_loss: 0.1699 - val_accuracy: 0.9567\n",
            "Epoch 18/50\n",
            "600/600 [==============================] - 2s 3ms/step - loss: 0.0968 - accuracy: 0.9699 - val_loss: 0.1736 - val_accuracy: 0.9551\n",
            "Epoch 19/50\n",
            "600/600 [==============================] - 2s 3ms/step - loss: 0.0920 - accuracy: 0.9707 - val_loss: 0.1848 - val_accuracy: 0.9546\n",
            "Epoch 20/50\n",
            "600/600 [==============================] - 2s 3ms/step - loss: 0.0935 - accuracy: 0.9707 - val_loss: 0.1779 - val_accuracy: 0.9575\n",
            "Epoch 21/50\n",
            "600/600 [==============================] - 2s 3ms/step - loss: 0.0898 - accuracy: 0.9719 - val_loss: 0.1661 - val_accuracy: 0.9589\n",
            "Epoch 22/50\n",
            "600/600 [==============================] - 2s 3ms/step - loss: 0.0844 - accuracy: 0.9733 - val_loss: 0.1911 - val_accuracy: 0.9539\n",
            "Epoch 23/50\n",
            "600/600 [==============================] - 2s 3ms/step - loss: 0.0816 - accuracy: 0.9742 - val_loss: 0.1732 - val_accuracy: 0.9574\n",
            "Epoch 24/50\n",
            "600/600 [==============================] - 2s 3ms/step - loss: 0.0805 - accuracy: 0.9748 - val_loss: 0.1944 - val_accuracy: 0.9579\n",
            "Epoch 25/50\n",
            "600/600 [==============================] - 2s 3ms/step - loss: 0.0798 - accuracy: 0.9750 - val_loss: 0.1784 - val_accuracy: 0.9575\n",
            "Epoch 26/50\n",
            "600/600 [==============================] - 2s 3ms/step - loss: 0.0720 - accuracy: 0.9776 - val_loss: 0.1989 - val_accuracy: 0.9556\n",
            "Epoch 27/50\n",
            "600/600 [==============================] - 2s 3ms/step - loss: 0.0726 - accuracy: 0.9775 - val_loss: 0.1838 - val_accuracy: 0.9578\n",
            "Epoch 28/50\n",
            "600/600 [==============================] - 2s 3ms/step - loss: 0.0723 - accuracy: 0.9774 - val_loss: 0.1855 - val_accuracy: 0.9575\n",
            "Epoch 29/50\n",
            "600/600 [==============================] - 2s 3ms/step - loss: 0.0703 - accuracy: 0.9779 - val_loss: 0.1966 - val_accuracy: 0.9567\n",
            "Epoch 30/50\n",
            "600/600 [==============================] - 2s 3ms/step - loss: 0.0677 - accuracy: 0.9787 - val_loss: 0.1940 - val_accuracy: 0.9578\n",
            "Epoch 31/50\n",
            "600/600 [==============================] - 2s 3ms/step - loss: 0.0674 - accuracy: 0.9785 - val_loss: 0.1965 - val_accuracy: 0.9600\n",
            "Epoch 32/50\n",
            "600/600 [==============================] - 2s 3ms/step - loss: 0.0684 - accuracy: 0.9784 - val_loss: 0.1991 - val_accuracy: 0.9591\n",
            "Epoch 33/50\n",
            "600/600 [==============================] - 2s 3ms/step - loss: 0.0656 - accuracy: 0.9785 - val_loss: 0.2004 - val_accuracy: 0.9565\n",
            "Epoch 34/50\n",
            "600/600 [==============================] - 2s 3ms/step - loss: 0.0584 - accuracy: 0.9816 - val_loss: 0.1873 - val_accuracy: 0.9585\n",
            "Epoch 35/50\n",
            "600/600 [==============================] - 2s 3ms/step - loss: 0.0615 - accuracy: 0.9808 - val_loss: 0.1880 - val_accuracy: 0.9606\n",
            "Epoch 36/50\n",
            "600/600 [==============================] - 2s 3ms/step - loss: 0.0606 - accuracy: 0.9810 - val_loss: 0.1879 - val_accuracy: 0.9602\n",
            "Epoch 37/50\n",
            "600/600 [==============================] - 2s 3ms/step - loss: 0.0576 - accuracy: 0.9814 - val_loss: 0.2404 - val_accuracy: 0.9540\n",
            "Epoch 38/50\n",
            "600/600 [==============================] - 2s 3ms/step - loss: 0.0623 - accuracy: 0.9802 - val_loss: 0.2236 - val_accuracy: 0.9584\n",
            "Epoch 39/50\n",
            "600/600 [==============================] - 2s 3ms/step - loss: 0.0586 - accuracy: 0.9814 - val_loss: 0.2137 - val_accuracy: 0.9592\n",
            "Epoch 40/50\n",
            "600/600 [==============================] - 2s 3ms/step - loss: 0.0517 - accuracy: 0.9833 - val_loss: 0.2231 - val_accuracy: 0.9583\n",
            "Epoch 41/50\n",
            "600/600 [==============================] - 2s 3ms/step - loss: 0.0540 - accuracy: 0.9822 - val_loss: 0.2275 - val_accuracy: 0.9556\n",
            "Epoch 42/50\n",
            "600/600 [==============================] - 2s 3ms/step - loss: 0.0579 - accuracy: 0.9818 - val_loss: 0.2226 - val_accuracy: 0.9589\n",
            "Epoch 43/50\n",
            "600/600 [==============================] - 2s 3ms/step - loss: 0.0520 - accuracy: 0.9836 - val_loss: 0.2194 - val_accuracy: 0.9614\n",
            "Epoch 44/50\n",
            "600/600 [==============================] - 2s 3ms/step - loss: 0.0534 - accuracy: 0.9839 - val_loss: 0.2033 - val_accuracy: 0.9605\n",
            "Epoch 45/50\n",
            "600/600 [==============================] - 2s 3ms/step - loss: 0.0526 - accuracy: 0.9839 - val_loss: 0.2119 - val_accuracy: 0.9588\n",
            "Epoch 46/50\n",
            "600/600 [==============================] - 2s 3ms/step - loss: 0.0522 - accuracy: 0.9839 - val_loss: 0.2515 - val_accuracy: 0.9561\n",
            "Epoch 47/50\n",
            "600/600 [==============================] - 2s 3ms/step - loss: 0.0504 - accuracy: 0.9839 - val_loss: 0.2126 - val_accuracy: 0.9600\n",
            "Epoch 48/50\n",
            "600/600 [==============================] - 2s 3ms/step - loss: 0.0480 - accuracy: 0.9848 - val_loss: 0.2373 - val_accuracy: 0.9584\n",
            "Epoch 49/50\n",
            "600/600 [==============================] - 2s 3ms/step - loss: 0.0508 - accuracy: 0.9839 - val_loss: 0.2355 - val_accuracy: 0.9576\n",
            "Epoch 50/50\n",
            "600/600 [==============================] - 2s 3ms/step - loss: 0.0511 - accuracy: 0.9846 - val_loss: 0.2253 - val_accuracy: 0.9587\n"
          ],
          "name": "stdout"
        }
      ]
    },
    {
      "cell_type": "markdown",
      "metadata": {
        "id": "KpgEuAzOOqms",
        "colab_type": "text"
      },
      "source": [
        "#### Plot the training and testing performance"
      ]
    },
    {
      "cell_type": "code",
      "metadata": {
        "id": "Ao0y-qG3vRto",
        "colab_type": "code",
        "colab": {}
      },
      "source": [
        ""
      ],
      "execution_count": null,
      "outputs": []
    },
    {
      "cell_type": "code",
      "metadata": {
        "id": "6JzATy_WOucH",
        "colab_type": "code",
        "colab": {
          "base_uri": "https://localhost:8080/",
          "height": 497
        },
        "outputId": "d84ec323-81b4-48fd-f934-23849d78c040"
      },
      "source": [
        "import matplotlib.pyplot as plt\n",
        "\n",
        "fig, ax = plt.subplots(figsize=(10,8))\n",
        "fig.set_facecolor('lightgray')\n",
        "plt.plot(history.history['accuracy'], 'b')\n",
        "plt.plot(history.history['val_accuracy'], 'r')\n",
        "plt.legend(['train acc', 'test acc'], fontsize=14)\n",
        "plt.xlabel('Epochs')\n",
        "plt.grid(b=True)"
      ],
      "execution_count": null,
      "outputs": [
        {
          "output_type": "display_data",
          "data": {
            "image/png": "[encoded data removed]",
            "text/plain": [
              "<Figure size 720x576 with 1 Axes>"
            ]
          },
          "metadata": {
            "tags": []
          }
        }
      ]
    },
    {
      "cell_type": "markdown",
      "metadata": {
        "id": "_YW6bZjLxBu-",
        "colab_type": "text"
      },
      "source": [
        "#### Predict test images  \n",
        "Use the function `.predict()` to predict the class of test images.\n",
        "Since the model has 10 outputs with the softmax acitvation, the $i$-th output corresponds to the probability of the input image belonging to class $i$.\n",
        "The predicted class label is the index $j$ of the neuron with the highest probability.\n",
        "The class label is computed with the `argmax()` function of the numpy package (see [doc](https://docs.scipy.org/doc/numpy/reference/generated/numpy.argmax.html))."
      ]
    },
    {
      "cell_type": "code",
      "metadata": {
        "id": "yqP6FBVBxAye",
        "colab_type": "code",
        "colab": {
          "base_uri": "https://localhost:8080/",
          "height": 554
        },
        "outputId": "ce1500ac-8878-4f80-e9b2-517db6caec5a"
      },
      "source": [
        "prob_pred = model.predict(x_test, batch_size=batch_size)\n",
        "label_pred = np.argmax(prob_pred, axis=1)\n",
        "plt.figure(figsize=(12,9))\n",
        "plt.subplots_adjust(wspace=0.4, hspace=0.4)\n",
        "for i in range(16):\n",
        "    axes = plt.subplot(4,4,i+1)\n",
        "    if label_pred[i]==t_test[i]:\n",
        "        color = 'cyan'\n",
        "    else:\n",
        "        color = 'red'\n",
        "    axes.set_title(label_pred[i], fontdict={'fontsize':14, 'color':color})\n",
        "    plt.imshow(x_test[i], cmap=plt.gray())"
      ],
      "execution_count": null,
      "outputs": [
        {
          "output_type": "display_data",
          "data": {
            "image/png": "[encoded data removed]",
            "text/plain": [
              "<Figure size 864x648 with 16 Axes>"
            ]
          },
          "metadata": {
            "tags": [],
            "needs_background": "light"
          }
        }
      ]
    }
  ]
}